{
 "cells": [
  {
   "cell_type": "markdown",
   "metadata": {},
   "source": [
    "# Quantum Game Theory"
   ]
  },
  {
   "cell_type": "code",
   "execution_count": 66,
   "metadata": {},
   "outputs": [
    {
     "name": "stdout",
     "output_type": "stream",
     "text": [
      "The autoreload extension is already loaded. To reload it, use:\n",
      "  %reload_ext autoreload\n"
     ]
    }
   ],
   "source": [
    "#Run this cell once to load all the relevant packages and settings\n",
    "%load_ext autoreload\n",
    "%autoreload 2\n",
    "\n",
    "from qiskit import QuantumCircuit\n",
    "from qiskit.quantum_info import Operator\n",
    "from qiskit.extensions import XGate, HGate\n",
    "from QuantumGameTheory import Game\n",
    "import numpy as np"
   ]
  },
  {
   "cell_type": "markdown",
   "metadata": {},
   "source": [
    "Cool picture"
   ]
  },
  {
   "cell_type": "markdown",
   "metadata": {},
   "source": [
    "## What you will learn in this tutorial"
   ]
  },
  {
   "cell_type": "markdown",
   "metadata": {},
   "source": [
    "Fun intro - teach you how to be a quantum game creator\n",
    "* What is a qubit and what are unitary gates\n",
    "* What is a \"Game Theory\" game\n",
    "* What is a \"Quantum Game theory\" game and how can I study these types of games using qiskit"
   ]
  },
  {
   "cell_type": "markdown",
   "metadata": {},
   "source": [
    "## Prerequisits\n",
    "If already know qubits, unitary operators and measurements -> skip to Game \n",
    "qubit - (-> interference)\n",
    "unitary operators (-> entanglement)\n",
    "measurements (-> collapse theory?)\n",
    "-> demos through qiskit but not"
   ]
  },
  {
   "cell_type": "markdown",
   "metadata": {},
   "source": [
    "## Game Theory\n",
    "intro w/ John Nash (rec letter). Players play a game in which they make choices (i.e. pick strategies) in order to maximize their points (i.e. their payoffs). The best way to get introduced to game theory is to start playing a game, soo let's dive straight in! "
   ]
  },
  {
   "cell_type": "markdown",
   "metadata": {},
   "source": [
    "### The Prisoner's dilemma"
   ]
  },
  {
   "cell_type": "markdown",
   "metadata": {},
   "source": [
    "Probably the most famous game theoretical game is the [Prisoner's Dilema](https://en.wikipedia.org/wiki/Prisoner%27s_dilemma). There are many variants to this game each with their own story, so here's our story for the game:\n",
    "\n",
    "Both you and I team up to break into a zoo and steal a panda (just for a little bit, we were going to give it back!). Unfortunately we both get caught, but not quite redhanded, so it isn't such an open-and-shut case for the police. So in order to try and get a confession out of both of us, the police seperate us into different rooms and give each of us two options:\n",
    "* To remain silent and take our chances - we shall call this strategy '0'\n",
    "* To confess and maybe receive a reduced sentence - we shall call this strategy '1'\n",
    "\n",
    "So together, there are 4 possible outcomes that could happen: '00' (where we both remain silent), '01' (where you remain silent and I confess), '10' (where you confess and I remain silent) and '11' (where we both confess).\n",
    "We are told that if we both remain silent (i.e. end up at the '00' outcome), the police still have enough evidence sentence us to 1 month in prison. However, if one of us confesses (i.e. the outcome is either '01' or '10') the player who chose the '1' strategy goes free and the other player (who chose the strategy '0') receives a 3 month prison sentence. \"What if we both confess, i.e. the outcome is '11'?\" I hear you ask. In which case, the policement informs us that we each get a 2 month prison sentence. I know there's a lot going on, so don't worry if you can't remember it all. It will become much clearer as we start coding right now!"
   ]
  },
  {
   "cell_type": "markdown",
   "metadata": {},
   "source": [
    "Finally, on to some coding! So withouth further ado, let us create the prisoner's dilemma game object by simply calling it:"
   ]
  },
  {
   "cell_type": "code",
   "execution_count": 55,
   "metadata": {},
   "outputs": [],
   "source": [
    "prisoner_game = Game(game_name='prisoner',protocol=\"Classical\")"
   ]
  },
  {
   "cell_type": "markdown",
   "metadata": {},
   "source": [
    "The 'game_name' indicates which game to load. Don't worry about the 'protocol' for now (as you might have guessed, we will use this later on when making a quantum version of the game). Now before we play the game, let's have a look at the possible payoffs"
   ]
  },
  {
   "cell_type": "code",
   "execution_count": 56,
   "metadata": {},
   "outputs": [
    {
     "name": "stdout",
     "output_type": "stream",
     "text": [
      "Game: prisoner\n",
      "Payoffs: \n"
     ]
    },
    {
     "data": {
      "text/html": [
       "<div>\n",
       "<style scoped>\n",
       "    .dataframe tbody tr th:only-of-type {\n",
       "        vertical-align: middle;\n",
       "    }\n",
       "\n",
       "    .dataframe tbody tr th {\n",
       "        vertical-align: top;\n",
       "    }\n",
       "\n",
       "    .dataframe thead th {\n",
       "        text-align: right;\n",
       "    }\n",
       "</style>\n",
       "<table border=\"1\" class=\"dataframe\">\n",
       "  <thead>\n",
       "    <tr style=\"text-align: right;\">\n",
       "      <th></th>\n",
       "      <th>outcome</th>\n",
       "      <th>payoffs</th>\n",
       "    </tr>\n",
       "  </thead>\n",
       "  <tbody>\n",
       "    <tr>\n",
       "      <th>0</th>\n",
       "      <td>00</td>\n",
       "      <td>(-1, -1)</td>\n",
       "    </tr>\n",
       "    <tr>\n",
       "      <th>1</th>\n",
       "      <td>01</td>\n",
       "      <td>(-3, 0)</td>\n",
       "    </tr>\n",
       "    <tr>\n",
       "      <th>2</th>\n",
       "      <td>10</td>\n",
       "      <td>(0, -3)</td>\n",
       "    </tr>\n",
       "    <tr>\n",
       "      <th>3</th>\n",
       "      <td>11</td>\n",
       "      <td>(-2, -2)</td>\n",
       "    </tr>\n",
       "  </tbody>\n",
       "</table>\n",
       "</div>"
      ],
      "text/plain": [
       "  outcome   payoffs\n",
       "0      00  (-1, -1)\n",
       "1      01   (-3, 0)\n",
       "2      10   (0, -3)\n",
       "3      11  (-2, -2)"
      ]
     },
     "execution_count": 56,
     "metadata": {},
     "output_type": "execute_result"
    }
   ],
   "source": [
    "prisoner_game.display_payoffs()"
   ]
  },
  {
   "cell_type": "markdown",
   "metadata": {},
   "source": [
    "This shows us the outcomes represented in bits and the payoff for each outcome e.g. if you remain silent ('0') and I confess ('1'), the outcome is represented by the bits '01' and the corresponding payoff is '[-3, 0]' which indicates that you will be sentenced to 3 months prison and I will go free (i.e. get 0 months prison). Notice that the payoff for you is -3 and not 3. This is because players are always trying to maximize their payoff, so the more months in prison will give you more negative results. "
   ]
  },
  {
   "cell_type": "markdown",
   "metadata": {},
   "source": [
    "So let's play! You will be P1 and I will be P2. To run the game, we simply have to input our strategies into the 'play_game' method and the results will be displayed. Feel free to try the different strategies for both players (and don't worry about the 'num_times' column for now). "
   ]
  },
  {
   "cell_type": "code",
   "execution_count": 58,
   "metadata": {},
   "outputs": [
    {
     "data": {
      "text/html": [
       "<div>\n",
       "<style scoped>\n",
       "    .dataframe tbody tr th:only-of-type {\n",
       "        vertical-align: middle;\n",
       "    }\n",
       "\n",
       "    .dataframe tbody tr th {\n",
       "        vertical-align: top;\n",
       "    }\n",
       "\n",
       "    .dataframe thead th {\n",
       "        text-align: right;\n",
       "    }\n",
       "</style>\n",
       "<table border=\"1\" class=\"dataframe\">\n",
       "  <thead>\n",
       "    <tr style=\"text-align: right;\">\n",
       "      <th></th>\n",
       "      <th>outcome</th>\n",
       "      <th>payoffs</th>\n",
       "      <th>winners</th>\n",
       "      <th>num_times</th>\n",
       "    </tr>\n",
       "  </thead>\n",
       "  <tbody>\n",
       "    <tr>\n",
       "      <th>0</th>\n",
       "      <td>01</td>\n",
       "      <td>(-3, 0)</td>\n",
       "      <td>P2</td>\n",
       "      <td>1</td>\n",
       "    </tr>\n",
       "  </tbody>\n",
       "</table>\n",
       "</div>"
      ],
      "text/plain": [
       "  outcome  payoffs winners  num_times\n",
       "0      01  (-3, 0)     P2           1"
      ]
     },
     "execution_count": 58,
     "metadata": {},
     "output_type": "execute_result"
    }
   ],
   "source": [
    "P1_strategy = #fill in here\n",
    "P2_strategy = 1\n",
    "combined_strategies = [P1_strategy, P2_strategy]\n",
    "prisoner_game.play_game(combined_strategies)"
   ]
  },
  {
   "cell_type": "markdown",
   "metadata": {},
   "source": [
    "Exercise: What strategy would you choose if you didn't know what strategy I was going to choose? This can be a bit tricky but it is worth taking the time to think about it before looking at the answer!"
   ]
  },
  {
   "cell_type": "markdown",
   "metadata": {},
   "source": [
    "<details>\n",
    "<summary>Click here for the answer</summary>\n",
    "No matter what strategy I choose, the optimal strategy for you is 1 (i.e. to confess). To understand this, let's look at the options starting with my strategies:\n",
    "<ol>\n",
    "  <li>I choose strategy 0 i.e. remain silent. If you also choose 0, your payoff is -1 whereas if you choose 1, your payoff is 0. Therefore it is better for you to choose 1 in this case.</li>\n",
    "  <li>I choose strategy 1 i.e. confess. If you choose 0, your payoff is -3 whereas if you also choose 1, your payoff is -2. Therefore it is also better for you to choose 1 in this case.</li>\n",
    "</ol>\n",
    "So it is always better for you to choose 1. By symmetry, this logic works for both of us (i.e. it is also better for me to always choose 1 since if I become P1 and you become P2, nothing changes). Therefore, rationally speaking, we should both always choose option 1. This leads to the concept of the 'dominant strategy' - the strategy that we will choose regardless of what the other person chooses (in this case 1 for the both of us). We say that this game has a 'dominant strategy equilibrium state' with the outcome 11 and payoffs [-2, -2].  \n",
    "</details>"
   ]
  },
  {
   "cell_type": "markdown",
   "metadata": {},
   "source": [
    "The prisoner's dilemma is known as a \"2x2 game\" - a game in which there are 2 players and they each have a the option between 2 strategies. So immediately we can see how to make any 2x2 game in principle - just make a list of payoffs and you now have a game! So let's do it"
   ]
  },
  {
   "cell_type": "code",
   "execution_count": 59,
   "metadata": {},
   "outputs": [
    {
     "name": "stdout",
     "output_type": "stream",
     "text": [
      "Game: cake fam\n",
      "Payoffs: \n"
     ]
    },
    {
     "data": {
      "text/html": [
       "<div>\n",
       "<style scoped>\n",
       "    .dataframe tbody tr th:only-of-type {\n",
       "        vertical-align: middle;\n",
       "    }\n",
       "\n",
       "    .dataframe tbody tr th {\n",
       "        vertical-align: top;\n",
       "    }\n",
       "\n",
       "    .dataframe thead th {\n",
       "        text-align: right;\n",
       "    }\n",
       "</style>\n",
       "<table border=\"1\" class=\"dataframe\">\n",
       "  <thead>\n",
       "    <tr style=\"text-align: right;\">\n",
       "      <th></th>\n",
       "      <th>outcome</th>\n",
       "      <th>payoffs</th>\n",
       "    </tr>\n",
       "  </thead>\n",
       "  <tbody>\n",
       "    <tr>\n",
       "      <th>0</th>\n",
       "      <td>00</td>\n",
       "      <td>[1, 1]</td>\n",
       "    </tr>\n",
       "    <tr>\n",
       "      <th>1</th>\n",
       "      <td>01</td>\n",
       "      <td>[1, 1]</td>\n",
       "    </tr>\n",
       "    <tr>\n",
       "      <th>2</th>\n",
       "      <td>10</td>\n",
       "      <td>[1, 1]</td>\n",
       "    </tr>\n",
       "    <tr>\n",
       "      <th>3</th>\n",
       "      <td>11</td>\n",
       "      <td>[1, 1]</td>\n",
       "    </tr>\n",
       "  </tbody>\n",
       "</table>\n",
       "</div>"
      ],
      "text/plain": [
       "  outcome payoffs\n",
       "0      00  [1, 1]\n",
       "1      01  [1, 1]\n",
       "2      10  [1, 1]\n",
       "3      11  [1, 1]"
      ]
     },
     "execution_count": 59,
     "metadata": {},
     "output_type": "execute_result"
    }
   ],
   "source": [
    "my_game_name = '' #fill in game name\n",
    "my_payoff_table = {'00': [#, #], \n",
    "                   '01': [#, #],\n",
    "                   '10': [#, #],\n",
    "                   '11': [#, #]} #fill in payoffs\n",
    "my_game = Game(my_game_name, protocol=\"Classical\", payoff_table=my_payoff_table)\n",
    "my_game.display_payoffs()"
   ]
  },
  {
   "cell_type": "code",
   "execution_count": 61,
   "metadata": {},
   "outputs": [
    {
     "data": {
      "text/html": [
       "<div>\n",
       "<style scoped>\n",
       "    .dataframe tbody tr th:only-of-type {\n",
       "        vertical-align: middle;\n",
       "    }\n",
       "\n",
       "    .dataframe tbody tr th {\n",
       "        vertical-align: top;\n",
       "    }\n",
       "\n",
       "    .dataframe thead th {\n",
       "        text-align: right;\n",
       "    }\n",
       "</style>\n",
       "<table border=\"1\" class=\"dataframe\">\n",
       "  <thead>\n",
       "    <tr style=\"text-align: right;\">\n",
       "      <th></th>\n",
       "      <th>outcome</th>\n",
       "      <th>payoffs</th>\n",
       "      <th>winners</th>\n",
       "      <th>num_times</th>\n",
       "    </tr>\n",
       "  </thead>\n",
       "  <tbody>\n",
       "    <tr>\n",
       "      <th>0</th>\n",
       "      <td>01</td>\n",
       "      <td>(-3, 0)</td>\n",
       "      <td>P2</td>\n",
       "      <td>1</td>\n",
       "    </tr>\n",
       "  </tbody>\n",
       "</table>\n",
       "</div>"
      ],
      "text/plain": [
       "  outcome  payoffs winners  num_times\n",
       "0      01  (-3, 0)     P2           1"
      ]
     },
     "execution_count": 61,
     "metadata": {},
     "output_type": "execute_result"
    }
   ],
   "source": [
    "P1_choice = #fill in here\n",
    "P2_choice = #fill in here\n",
    "choices = [P1_choice, P2_choice]\n",
    "my_game_game.play_game(choices)"
   ]
  },
  {
   "cell_type": "markdown",
   "metadata": {},
   "source": [
    "Here ends our introduction to Game Theory. There are [many](https://www.youtube.com/watch?v=3Y1WpytiHKE), [many](http://web.mit.edu/rgibbons/www/Gibbons_An%20Introduction%20to%20Applicable%20Game%20Theory.pdf) [good](http://www.rasmusen.org/GI/download.htm) [resources](https://econweb.ucsd.edu/~jsobel/200Cs09/Kartik_Notes.pdf) out there to learn more about classical game theory. As far as this tutorial is concerned, we will end our discussion on classical game theory here. Now let's go quantum!"
   ]
  },
  {
   "cell_type": "markdown",
   "metadata": {},
   "source": [
    "## Quantum Game Theory\n",
    "1. Qubits instead of bits\n",
    "2. Entangle the qubits\n",
    "2. Strategies are unitary operators\n",
    "3. Outcome is a measurement of our qubits after the strategies\n",
    "4. Use the same payoff table to find payoff for each player\n"
   ]
  },
  {
   "cell_type": "markdown",
   "metadata": {},
   "source": [
    "### EWL protocol\n",
    "EWL protocol w/ 2 prequisits - max entanglement and generalization of classical game. again with example"
   ]
  },
  {
   "cell_type": "code",
   "execution_count": 77,
   "metadata": {},
   "outputs": [
    {
     "data": {
      "image/png": "[encoded data removed]",
      "text/plain": [
       "<Figure size 156.52x144.48 with 1 Axes>"
      ]
     },
     "execution_count": 77,
     "metadata": {},
     "output_type": "execute_result"
    }
   ],
   "source": [
    "#2 x 2 quantum game, each player gets two qubits, with the states |0> and |1> representing classical strategies '0' and '1'.\n",
    "#Start with qubits\n",
    "circ = QuantumCircuit(2)\n",
    "circ.draw(output='mpl')"
   ]
  },
  {
   "cell_type": "markdown",
   "metadata": {},
   "source": [
    "Next, maximally entangled states -> full correlation\n",
    "we will choose |00> + i|11> (i comes from historical, beamsplitter stuff?)\n",
    "Need 1/sqrt(2)(Ix2 + iXx2)\n",
    "Build our own gate!"
   ]
  },
  {
   "cell_type": "code",
   "execution_count": 78,
   "metadata": {},
   "outputs": [
    {
     "data": {
      "image/png": "[encoded data removed]",
      "text/plain": [
       "<Figure size 276.92x144.48 with 1 Axes>"
      ]
     },
     "execution_count": 78,
     "metadata": {},
     "output_type": "execute_result"
    }
   ],
   "source": [
    "I_2 = np.identity(4)\n",
    "    \n",
    "X_2 = np.matrix([[0,0,0,1], \n",
    "                   [0,0,1,0],\n",
    "                   [0,1,0,0],\n",
    "                   [1,0,0,0]])\n",
    "J_2 = Operator(1 / np.sqrt(2) * (I_2 + 1j *X_2))    \n",
    "\n",
    "circ.append(J_2, [0,1])\n",
    "circ.draw(output='mpl')"
   ]
  },
  {
   "cell_type": "markdown",
   "metadata": {},
   "source": [
    "exercise: encourage you to do Ix2 and Xx2 and finally J_2\n",
    "under the hood: we can do it for arbitray number of players   "
   ]
  },
  {
   "cell_type": "markdown",
   "metadata": {},
   "source": [
    "Each person can perform a unitary operator on their qubit.\n",
    "E.g. player 1 chooses X and player 2 chooses H"
   ]
  },
  {
   "cell_type": "code",
   "execution_count": 79,
   "metadata": {},
   "outputs": [
    {
     "data": {
      "image/png": "[encoded data removed]",
      "text/plain": [
       "<Figure size 337.12x144.48 with 1 Axes>"
      ]
     },
     "execution_count": 79,
     "metadata": {},
     "output_type": "execute_result"
    }
   ],
   "source": [
    "circ.x(0)\n",
    "circ.h(1)\n",
    "circ.draw(output='mpl')"
   ]
  },
  {
   "cell_type": "markdown",
   "metadata": {},
   "source": [
    "So we have the maximum entanglement and we have quantum strategies. Just measure and done? Nope, we have to add another gate because of subtle point of generalization of classical game"
   ]
  },
  {
   "cell_type": "markdown",
   "metadata": {},
   "source": [
    "Generalization should be that if players only use I or X, it should mimic classical game -> need 'unentangling' gate. It is dagger of original J gate"
   ]
  },
  {
   "cell_type": "code",
   "execution_count": 80,
   "metadata": {},
   "outputs": [
    {
     "data": {
      "image/png": "[encoded data removed]",
      "text/plain": [
       "<Figure size 457.52x144.48 with 1 Axes>"
      ]
     },
     "execution_count": 80,
     "metadata": {},
     "output_type": "execute_result"
    }
   ],
   "source": [
    "J_2_dg = Operator(1 / np.sqrt(2) * (I_2 - 1j *X_2))\n",
    "\n",
    "circ.append(J_2_dg, [0,1])\n",
    "circ.draw(output='mpl')"
   ]
  },
  {
   "cell_type": "markdown",
   "metadata": {},
   "source": [
    "Now we measure to get outcome, and get payoff using payoff table. Let's look at prisoner's dilemma example again but this time quantum EWL"
   ]
  },
  {
   "cell_type": "markdown",
   "metadata": {},
   "source": [
    "### Quantum Prisoner's Dilemma"
   ]
  },
  {
   "cell_type": "code",
   "execution_count": 81,
   "metadata": {},
   "outputs": [
    {
     "name": "stdout",
     "output_type": "stream",
     "text": [
      "Game: prisoner\n",
      "Payoffs: \n"
     ]
    },
    {
     "data": {
      "text/html": [
       "<div>\n",
       "<style scoped>\n",
       "    .dataframe tbody tr th:only-of-type {\n",
       "        vertical-align: middle;\n",
       "    }\n",
       "\n",
       "    .dataframe tbody tr th {\n",
       "        vertical-align: top;\n",
       "    }\n",
       "\n",
       "    .dataframe thead th {\n",
       "        text-align: right;\n",
       "    }\n",
       "</style>\n",
       "<table border=\"1\" class=\"dataframe\">\n",
       "  <thead>\n",
       "    <tr style=\"text-align: right;\">\n",
       "      <th></th>\n",
       "      <th>outcome</th>\n",
       "      <th>payoffs</th>\n",
       "    </tr>\n",
       "  </thead>\n",
       "  <tbody>\n",
       "    <tr>\n",
       "      <th>0</th>\n",
       "      <td>00</td>\n",
       "      <td>(-1, -1)</td>\n",
       "    </tr>\n",
       "    <tr>\n",
       "      <th>1</th>\n",
       "      <td>01</td>\n",
       "      <td>(-3, 0)</td>\n",
       "    </tr>\n",
       "    <tr>\n",
       "      <th>2</th>\n",
       "      <td>10</td>\n",
       "      <td>(0, -3)</td>\n",
       "    </tr>\n",
       "    <tr>\n",
       "      <th>3</th>\n",
       "      <td>11</td>\n",
       "      <td>(-2, -2)</td>\n",
       "    </tr>\n",
       "  </tbody>\n",
       "</table>\n",
       "</div>"
      ],
      "text/plain": [
       "  outcome   payoffs\n",
       "0      00  (-1, -1)\n",
       "1      01   (-3, 0)\n",
       "2      10   (0, -3)\n",
       "3      11  (-2, -2)"
      ]
     },
     "execution_count": 81,
     "metadata": {},
     "output_type": "execute_result"
    }
   ],
   "source": [
    "prisoner_game_quantum = Game(game_name='prisoner',protocol=\"EWL\")\n",
    "prisoner_game_quantum.display_payoffs()"
   ]
  },
  {
   "cell_type": "markdown",
   "metadata": {},
   "source": [
    "generate the same circuit with same strategies (X and H)"
   ]
  },
  {
   "cell_type": "code",
   "execution_count": 84,
   "metadata": {},
   "outputs": [
    {
     "data": {
      "text/html": [
       "<div>\n",
       "<style scoped>\n",
       "    .dataframe tbody tr th:only-of-type {\n",
       "        vertical-align: middle;\n",
       "    }\n",
       "\n",
       "    .dataframe tbody tr th {\n",
       "        vertical-align: top;\n",
       "    }\n",
       "\n",
       "    .dataframe thead th {\n",
       "        text-align: right;\n",
       "    }\n",
       "</style>\n",
       "<table border=\"1\" class=\"dataframe\">\n",
       "  <thead>\n",
       "    <tr style=\"text-align: right;\">\n",
       "      <th></th>\n",
       "      <th>outcome</th>\n",
       "      <th>payoffs</th>\n",
       "      <th>winners</th>\n",
       "      <th>num_times</th>\n",
       "    </tr>\n",
       "  </thead>\n",
       "  <tbody>\n",
       "    <tr>\n",
       "      <th>0</th>\n",
       "      <td>11</td>\n",
       "      <td>(-2, -2)</td>\n",
       "      <td>no winners</td>\n",
       "      <td>1</td>\n",
       "    </tr>\n",
       "  </tbody>\n",
       "</table>\n",
       "</div>"
      ],
      "text/plain": [
       "  outcome   payoffs     winners  num_times\n",
       "0      11  (-2, -2)  no winners          1"
      ]
     },
     "execution_count": 84,
     "metadata": {},
     "output_type": "execute_result"
    }
   ],
   "source": [
    "P1_strategy = 'X'\n",
    "P2_strategy = 'H'\n",
    "combined_strategies = [P1_strategy, P2_strategy]\n",
    "prisoner_game_quantum.play_game(combined_strategies)"
   ]
  },
  {
   "cell_type": "markdown",
   "metadata": {},
   "source": [
    "Look at circuit again and calculate by hand\n",
    "calculation of final state\n",
    "so why does the above show a single outcome? Remember, the last step is a measurement! Let's do it several times -> back to the num_times I asked you to ignore!"
   ]
  },
  {
   "cell_type": "code",
   "execution_count": 85,
   "metadata": {},
   "outputs": [
    {
     "data": {
      "text/html": [
       "<div>\n",
       "<style scoped>\n",
       "    .dataframe tbody tr th:only-of-type {\n",
       "        vertical-align: middle;\n",
       "    }\n",
       "\n",
       "    .dataframe tbody tr th {\n",
       "        vertical-align: top;\n",
       "    }\n",
       "\n",
       "    .dataframe thead th {\n",
       "        text-align: right;\n",
       "    }\n",
       "</style>\n",
       "<table border=\"1\" class=\"dataframe\">\n",
       "  <thead>\n",
       "    <tr style=\"text-align: right;\">\n",
       "      <th></th>\n",
       "      <th>outcome</th>\n",
       "      <th>payoffs</th>\n",
       "      <th>winners</th>\n",
       "      <th>num_times</th>\n",
       "    </tr>\n",
       "  </thead>\n",
       "  <tbody>\n",
       "    <tr>\n",
       "      <th>0</th>\n",
       "      <td>10</td>\n",
       "      <td>(0, -3)</td>\n",
       "      <td>P1</td>\n",
       "      <td>23</td>\n",
       "    </tr>\n",
       "    <tr>\n",
       "      <th>1</th>\n",
       "      <td>01</td>\n",
       "      <td>(-3, 0)</td>\n",
       "      <td>P2</td>\n",
       "      <td>23</td>\n",
       "    </tr>\n",
       "    <tr>\n",
       "      <th>2</th>\n",
       "      <td>00</td>\n",
       "      <td>(-1, -1)</td>\n",
       "      <td>no winners</td>\n",
       "      <td>33</td>\n",
       "    </tr>\n",
       "    <tr>\n",
       "      <th>3</th>\n",
       "      <td>11</td>\n",
       "      <td>(-2, -2)</td>\n",
       "      <td>no winners</td>\n",
       "      <td>21</td>\n",
       "    </tr>\n",
       "  </tbody>\n",
       "</table>\n",
       "</div>"
      ],
      "text/plain": [
       "  outcome   payoffs     winners  num_times\n",
       "0      10   (0, -3)         P1          23\n",
       "1      01   (-3, 0)         P2          23\n",
       "2      00  (-1, -1)  no winners         33\n",
       "3      11  (-2, -2)  no winners         21"
      ]
     },
     "execution_count": 85,
     "metadata": {},
     "output_type": "execute_result"
    }
   ],
   "source": [
    "prisoner_game_quantum.play_game(combined_strategies, n_times = 100)"
   ]
  },
  {
   "cell_type": "markdown",
   "metadata": {},
   "source": [
    "Different outcomes every time! Exercise: do the measurements correspond with probabilities?"
   ]
  },
  {
   "cell_type": "code",
   "execution_count": null,
   "metadata": {},
   "outputs": [],
   "source": [
    "Q prisoner's dilemma has other optimal strategies that don't exist in classical -> Nash equilibriums!\n",
    "(x-minority game)\n",
    "other current features ('MW' protocol, etc.)"
   ]
  },
  {
   "cell_type": "markdown",
   "metadata": {},
   "source": [
    "## What next?\n",
    "This is really cool, what can I do going forward?\n",
    "1. Help build infrastructure - mixed strategies, more choices etc.\n",
    "2. Study theory using this toolkit\n",
    "Ideas we are interested in/working on\n",
    "Get in touch with us!"
   ]
  }
 ],
 "metadata": {
  "kernelspec": {
   "display_name": "Python 3",
   "language": "python",
   "name": "python3"
  },
  "language_info": {
   "codemirror_mode": {
    "name": "ipython",
    "version": 3
   },
   "file_extension": ".py",
   "mimetype": "text/x-python",
   "name": "python",
   "nbconvert_exporter": "python",
   "pygments_lexer": "ipython3",
   "version": "3.6.9"
  }
 },
 "nbformat": 4,
 "nbformat_minor": 2
}
