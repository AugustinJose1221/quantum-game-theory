{
 "cells": [
  {
   "cell_type": "markdown",
   "metadata": {},
   "source": [
    "# Quantum Game Theory"
   ]
  },
  {
   "cell_type": "code",
   "execution_count": 5,
   "metadata": {},
   "outputs": [
    {
     "name": "stdout",
     "output_type": "stream",
     "text": [
      "The autoreload extension is already loaded. To reload it, use:\n",
      "  %reload_ext autoreload\n"
     ]
    }
   ],
   "source": [
    "#Run this cell once to load all the relevant packages and settings\n",
    "%load_ext autoreload\n",
    "%autoreload 2\n",
    "\n",
    "from qiskit import QuantumCircuit\n",
    "from qiskit.visualization import plot_histogram\n",
    "import matplotlib.pyplot as plt\n",
    "from qiskit.quantum_info import Operator\n",
    "from qiskit.extensions import XGate, HGate\n",
    "from QuantumGameTheory import Game\n",
    "import pandas as pd\n",
    "import numpy as np"
   ]
  },
  {
   "cell_type": "markdown",
   "metadata": {},
   "source": [
    "Cool picture"
   ]
  },
  {
   "cell_type": "markdown",
   "metadata": {},
   "source": [
    "## What you will learn in this tutorial"
   ]
  },
  {
   "cell_type": "markdown",
   "metadata": {},
   "source": [
    "Fun intro - teach you how to be a quantum game creator\n",
    "* What is a \"Game Theory\" game\n",
    "* What is a \"Quantum Game theory\" game and how can I study these types of games using qiskit"
   ]
  },
  {
   "cell_type": "markdown",
   "metadata": {},
   "source": [
    "## Game Theory\n",
    "intro w/ John Nash (rec letter). Players play a game in which they make choices (i.e. pick strategies) in order to maximize their points (i.e. their payoffs). The best way to get introduced to game theory is to start playing a game, soo let's dive straight in! "
   ]
  },
  {
   "cell_type": "markdown",
   "metadata": {},
   "source": [
    "### The Prisoner's Dilemma"
   ]
  },
  {
   "cell_type": "markdown",
   "metadata": {},
   "source": [
    "Probably the most famous game theoretical game is the [Prisoner's Dilemma](https://en.wikipedia.org/wiki/Prisoner%27s_dilemma). There are many variants to this game each with their own story, so here's our story for the game:\n",
    "\n",
    "Both you and I team up to break into a zoo and steal a panda (just for a little bit, we were going to give it back!). Unfortunately we both get caught, but not quite redhanded, so it isn't such an open-and-shut case for the police. So in order to try and get a confession out of both of us, the police seperate us into different rooms and give each of us two options:\n",
    "* To remain silent and take our chances - we shall call this strategy '0'\n",
    "* To confess and maybe receive a reduced sentence - we shall call this strategy '1'\n",
    "\n",
    "So together, there are 4 possible outcomes that could happen: '00' (where we both remain silent), '01' (where you remain silent and I confess), '10' (where you confess and I remain silent) and '11' (where we both confess).\n",
    "We are told that if we both remain silent (i.e. end up at the '00' outcome), the police still have enough evidence sentence us to 1 month in prison. However, if one of us confesses (i.e. the outcome is either '01' or '10') the player who chose the '1' strategy goes free and the other player (who chose the strategy '0') receives a 3 month prison sentence. \"What if we both confess, i.e. the outcome is '11'?\" I hear you ask. In which case, the policement informs us that we each get a 2 month prison sentence. I know there's a lot going on, so don't worry if you can't remember it all. It will become much clearer as we start coding right now!"
   ]
  },
  {
   "cell_type": "markdown",
   "metadata": {},
   "source": [
    "Finally, on to some coding! Throughout this notebook, we will be using the 'QuantumGameTheory' package. So without further ado, let us create the prisoner's dilemma game object by simply calling it:"
   ]
  },
  {
   "cell_type": "code",
   "execution_count": 6,
   "metadata": {},
   "outputs": [],
   "source": [
    "prisoner_game = Game(game_name='prisoner',protocol=\"Classical\")"
   ]
  },
  {
   "cell_type": "markdown",
   "metadata": {},
   "source": [
    "The 'game_name' indicates which game to load. Don't worry about the 'protocol' for now (as you might have guessed, we will use this later on when making a quantum version of the game). Now before we play the game, let's have a look at the possible payoffs"
   ]
  },
  {
   "cell_type": "code",
   "execution_count": 7,
   "metadata": {},
   "outputs": [
    {
     "name": "stdout",
     "output_type": "stream",
     "text": [
      "Game: prisoner\n",
      "Payoffs: \n"
     ]
    },
    {
     "data": {
      "text/html": [
       "<div>\n",
       "<style scoped>\n",
       "    .dataframe tbody tr th:only-of-type {\n",
       "        vertical-align: middle;\n",
       "    }\n",
       "\n",
       "    .dataframe tbody tr th {\n",
       "        vertical-align: top;\n",
       "    }\n",
       "\n",
       "    .dataframe thead th {\n",
       "        text-align: right;\n",
       "    }\n",
       "</style>\n",
       "<table border=\"1\" class=\"dataframe\">\n",
       "  <thead>\n",
       "    <tr style=\"text-align: right;\">\n",
       "      <th></th>\n",
       "      <th>outcome</th>\n",
       "      <th>payoffs</th>\n",
       "    </tr>\n",
       "  </thead>\n",
       "  <tbody>\n",
       "    <tr>\n",
       "      <th>0</th>\n",
       "      <td>00</td>\n",
       "      <td>(-1, -1)</td>\n",
       "    </tr>\n",
       "    <tr>\n",
       "      <th>1</th>\n",
       "      <td>01</td>\n",
       "      <td>(-3, 0)</td>\n",
       "    </tr>\n",
       "    <tr>\n",
       "      <th>2</th>\n",
       "      <td>10</td>\n",
       "      <td>(0, -3)</td>\n",
       "    </tr>\n",
       "    <tr>\n",
       "      <th>3</th>\n",
       "      <td>11</td>\n",
       "      <td>(-2, -2)</td>\n",
       "    </tr>\n",
       "  </tbody>\n",
       "</table>\n",
       "</div>"
      ],
      "text/plain": [
       "  outcome   payoffs\n",
       "0      00  (-1, -1)\n",
       "1      01   (-3, 0)\n",
       "2      10   (0, -3)\n",
       "3      11  (-2, -2)"
      ]
     },
     "execution_count": 7,
     "metadata": {},
     "output_type": "execute_result"
    }
   ],
   "source": [
    "prisoner_game.display_payoffs()"
   ]
  },
  {
   "cell_type": "markdown",
   "metadata": {},
   "source": [
    "This shows us the outcomes represented in bits and the payoff for each outcome e.g. if you remain silent ('0') and I confess ('1'), the outcome is represented by the bits '01' and the corresponding payoff is '[-3, 0]' which indicates that you will be sentenced to 3 months prison and I will go free (i.e. get 0 months prison). Notice that the payoff for you is -3 and not 3. This is because players are always trying to maximize their payoff, so the more months in prison will give you more negative results. "
   ]
  },
  {
   "cell_type": "markdown",
   "metadata": {},
   "source": [
    "So let's play! You will be P1 and I will be P2. To run the game, we simply have to input our strategies into the 'play_game' method and the results will be displayed. Feel free to try the different strategies for both players (ignore the 'outcomes' variable and 'num_times' column for now. We will get back to them way later on). "
   ]
  },
  {
   "cell_type": "code",
   "execution_count": 8,
   "metadata": {},
   "outputs": [
    {
     "data": {
      "text/html": [
       "<div>\n",
       "<style scoped>\n",
       "    .dataframe tbody tr th:only-of-type {\n",
       "        vertical-align: middle;\n",
       "    }\n",
       "\n",
       "    .dataframe tbody tr th {\n",
       "        vertical-align: top;\n",
       "    }\n",
       "\n",
       "    .dataframe thead th {\n",
       "        text-align: right;\n",
       "    }\n",
       "</style>\n",
       "<table border=\"1\" class=\"dataframe\">\n",
       "  <thead>\n",
       "    <tr style=\"text-align: right;\">\n",
       "      <th></th>\n",
       "      <th>outcome</th>\n",
       "      <th>payoffs</th>\n",
       "      <th>winners</th>\n",
       "      <th>num_times</th>\n",
       "      <th>backend</th>\n",
       "    </tr>\n",
       "  </thead>\n",
       "  <tbody>\n",
       "    <tr>\n",
       "      <th>0</th>\n",
       "      <td>11</td>\n",
       "      <td>(-2, -2)</td>\n",
       "      <td>no winners</td>\n",
       "      <td>1</td>\n",
       "      <td>Classical</td>\n",
       "    </tr>\n",
       "  </tbody>\n",
       "</table>\n",
       "</div>"
      ],
      "text/plain": [
       "  outcome   payoffs     winners  num_times    backend\n",
       "0      11  (-2, -2)  no winners          1  Classical"
      ]
     },
     "execution_count": 8,
     "metadata": {},
     "output_type": "execute_result"
    }
   ],
   "source": [
    "P1_strategy = 1#fill in here\n",
    "P2_strategy = 1\n",
    "combined_strategies = [P1_strategy, P2_strategy]\n",
    "outcomes, results = prisoner_game.play_game(combined_strategies)\n",
    "results"
   ]
  },
  {
   "cell_type": "markdown",
   "metadata": {},
   "source": [
    "__Exercise 1__: What strategy would you choose if you didn't know what strategy I was going to choose? This can be a bit tricky but it is worth taking the time to think about it before looking at the answer!"
   ]
  },
  {
   "cell_type": "markdown",
   "metadata": {},
   "source": [
    "<details>\n",
    "<summary>Click here for the answer to Exercise 1</summary>\n",
    "No matter what strategy I choose, the optimal strategy for you is 1 (i.e. to confess). To understand this, let's look at the options starting with my strategies:\n",
    "<ol>\n",
    "  <li>I choose strategy 0 i.e. remain silent. If you also choose 0, your payoff is -1 whereas if you choose 1, your payoff is 0. Therefore it is better for you to choose 1 in this case.</li>\n",
    "  <li>I choose strategy 1 i.e. confess. If you choose 0, your payoff is -3 whereas if you also choose 1, your payoff is -2. Therefore it is also better for you to choose 1 in this case.</li>\n",
    "</ol>\n",
    "So it is always better for you to choose 1. By symmetry, this logic works for both of us (i.e. it is also better for me to always choose 1 since if I become P1 and you become P2, the payoffs remain the same). Therefore, rationally speaking, we should both always choose option 1. This leads to the concept of the 'dominant strategy' - the strategy that we will choose <i>regardless of what the other person chooses</i> (in this case 1 for the both of us). We say that this game has a 'dominant strategy equilibrium state' with the outcome 11 and payoffs [-2, -2].  \n",
    "</details>"
   ]
  },
  {
   "cell_type": "markdown",
   "metadata": {},
   "source": [
    "### Nash Equilibria"
   ]
  },
  {
   "cell_type": "markdown",
   "metadata": {},
   "source": [
    "In this section, we investigate the most popular type of equilibrium - the Nash equilibrium. In order to do this, we will look at another game - Bach or Stravinsky. The game is as follows: Two people (Alya and Bai) want to go out to a concert. One prefers Bach and the other Stravinksy. However, they both would prefer to go together rather than to either concert alone. To see this quantitatively, let's look at the payoff table."
   ]
  },
  {
   "cell_type": "code",
   "execution_count": 9,
   "metadata": {},
   "outputs": [
    {
     "name": "stdout",
     "output_type": "stream",
     "text": [
      "Game: BoS\n",
      "Payoffs: \n"
     ]
    },
    {
     "data": {
      "text/html": [
       "<div>\n",
       "<style scoped>\n",
       "    .dataframe tbody tr th:only-of-type {\n",
       "        vertical-align: middle;\n",
       "    }\n",
       "\n",
       "    .dataframe tbody tr th {\n",
       "        vertical-align: top;\n",
       "    }\n",
       "\n",
       "    .dataframe thead th {\n",
       "        text-align: right;\n",
       "    }\n",
       "</style>\n",
       "<table border=\"1\" class=\"dataframe\">\n",
       "  <thead>\n",
       "    <tr style=\"text-align: right;\">\n",
       "      <th></th>\n",
       "      <th>outcome</th>\n",
       "      <th>payoffs</th>\n",
       "    </tr>\n",
       "  </thead>\n",
       "  <tbody>\n",
       "    <tr>\n",
       "      <th>0</th>\n",
       "      <td>00</td>\n",
       "      <td>(3, 2)</td>\n",
       "    </tr>\n",
       "    <tr>\n",
       "      <th>1</th>\n",
       "      <td>01</td>\n",
       "      <td>(0, 0)</td>\n",
       "    </tr>\n",
       "    <tr>\n",
       "      <th>2</th>\n",
       "      <td>10</td>\n",
       "      <td>(0, 0)</td>\n",
       "    </tr>\n",
       "    <tr>\n",
       "      <th>3</th>\n",
       "      <td>11</td>\n",
       "      <td>(2, 3)</td>\n",
       "    </tr>\n",
       "  </tbody>\n",
       "</table>\n",
       "</div>"
      ],
      "text/plain": [
       "  outcome payoffs\n",
       "0      00  (3, 2)\n",
       "1      01  (0, 0)\n",
       "2      10  (0, 0)\n",
       "3      11  (2, 3)"
      ]
     },
     "execution_count": 9,
     "metadata": {},
     "output_type": "execute_result"
    }
   ],
   "source": [
    "BoS_game = Game(game_name='BoS',protocol=\"Classical\")\n",
    "BoS_game.display_payoffs()"
   ]
  },
  {
   "cell_type": "markdown",
   "metadata": {},
   "source": [
    "To start with, we see that there is no dominant strategy equilibrium - neither player has a strategy that will give them the best outcome regardless of the other player's strategy. On the other hand, we know that there are some strategies that are better than others _if a player knows what the other player is going to do_. In this example, say Bai knew that Alya was going to the Bach concert (strategy 0), then he will choose to also go to the Bach concert (because he would rather get a payoff of 2 than 0).\n",
    "\n",
    "The question is, are there pairs of strategies for which no player would change if the other one was fixed? I.e. is there a combined strategy 'a', 'b' such that if Alya chooses strategy 'a', then Bai will choose strategy 'b' _and_ if Bai chooses strategy 'b', then Alya will choose strategy 'a'? If this is the case, we say that Alya and Bai are in a Nash equilibrium."
   ]
  },
  {
   "cell_type": "markdown",
   "metadata": {},
   "source": [
    "__Exercise 2__: What are the Nash equiblibria in the Bach or Stravinsky game?"
   ]
  },
  {
   "cell_type": "markdown",
   "metadata": {},
   "source": [
    "<details>\n",
    "<summary>Click here for the answer to Exercise 2</summary>\n",
    "The two strategies that Alya and Bai can choose that lead to Nash equilibria are '00' or '11'. Let's look at the first one from each of the players' points of view:\n",
    "<ol>\n",
    "    <li> If Alya knew that Bai was going to pick 0 (i.e. go to the Bach concert), then she would also pick 0 to maximize her payoff.</li>\n",
    "    <ii> If Bai knew that Alya was going to pick 0, then he would also pick 0 to maximize his payoff.</li>\n",
    "</ol>\n",
    "Therefore, neither player will deviate from their strategies. The same applies for the '11' strategy"
   ]
  },
  {
   "cell_type": "markdown",
   "metadata": {},
   "source": [
    "__Exercise 3__: Are dominant strategy equilibria Nash equilibria? What about vice-versa? (If you're not sure what dominant strategy equilibria are, have a look at the answer to Exercise 1)"
   ]
  },
  {
   "cell_type": "markdown",
   "metadata": {},
   "source": [
    "<details>\n",
    "<summary>Click here for the answer to Exercise 3</summary>\n",
    "    Dominante equilibria are also <i>always</i> Nash equilibria - if the players each choose the dominant strategy, they also will not change their strategies if they know what the other player is going to do, which by definition puts them in a Nash equilibrium. On the other hand, not all Nash equilibria are dominant strategy equilibria as can be seen using the Bach or Stravinsky game above"
   ]
  },
  {
   "cell_type": "markdown",
   "metadata": {},
   "source": [
    "### General 2x2 Games"
   ]
  },
  {
   "cell_type": "markdown",
   "metadata": {},
   "source": [
    "The prisoner's dilemma and Bach or Stravinksy game are known as a \"2x2 games\" - games in which there are 2 players and they each have the option between 2 strategies. So immediately we can see how to make any 2x2 game in principle - just make a list of payoffs for each outcome and you now have a game! So let's do it"
   ]
  },
  {
   "cell_type": "code",
   "execution_count": 10,
   "metadata": {},
   "outputs": [
    {
     "ename": "SyntaxError",
     "evalue": "invalid syntax (<ipython-input-10-283ec6e9d31f>, line 3)",
     "output_type": "error",
     "traceback": [
      "\u001b[1;36m  File \u001b[1;32m\"<ipython-input-10-283ec6e9d31f>\"\u001b[1;36m, line \u001b[1;32m3\u001b[0m\n\u001b[1;33m    '01': [#, #],\u001b[0m\n\u001b[1;37m        ^\u001b[0m\n\u001b[1;31mSyntaxError\u001b[0m\u001b[1;31m:\u001b[0m invalid syntax\n"
     ]
    }
   ],
   "source": [
    "my_game_name = '' #fill in game name\n",
    "my_payoff_table = {'00': [#, #], \n",
    "                   '01': [#, #],\n",
    "                   '10': [#, #],\n",
    "                   '11': [#, #]} #fill in payoffs\n",
    "my_game = Game(my_game_name, protocol=\"Classical\", payoff_table=my_payoff_table)\n",
    "my_game.display_payoffs()"
   ]
  },
  {
   "cell_type": "code",
   "execution_count": 11,
   "metadata": {},
   "outputs": [
    {
     "ename": "SyntaxError",
     "evalue": "invalid syntax (<ipython-input-11-53caff520388>, line 1)",
     "output_type": "error",
     "traceback": [
      "\u001b[1;36m  File \u001b[1;32m\"<ipython-input-11-53caff520388>\"\u001b[1;36m, line \u001b[1;32m1\u001b[0m\n\u001b[1;33m    P1_choice = #fill in here\u001b[0m\n\u001b[1;37m                             ^\u001b[0m\n\u001b[1;31mSyntaxError\u001b[0m\u001b[1;31m:\u001b[0m invalid syntax\n"
     ]
    }
   ],
   "source": [
    "P1_choice = #fill in here\n",
    "P2_choice = #fill in here\n",
    "choices = [P1_choice, P2_choice]\n",
    "outcomes, results = my_game_game.play_game(choices)\n",
    "results"
   ]
  },
  {
   "cell_type": "markdown",
   "metadata": {},
   "source": [
    "Here ends our introduction to Game Theory. There are [many](https://www.youtube.com/watch?v=3Y1WpytiHKE), [many](http://web.mit.edu/rgibbons/www/Gibbons_An%20Introduction%20to%20Applicable%20Game%20Theory.pdf) [good](http://www.rasmusen.org/GI/download.htm) [resources](https://econweb.ucsd.edu/~jsobel/200Cs09/Kartik_Notes.pdf) out there to learn more about classical game theory. As far as this tutorial is concerned, we will end our discussion on classical game theory here. Now let's go quantum!"
   ]
  },
  {
   "cell_type": "markdown",
   "metadata": {},
   "source": [
    "## Quantum Game Theory\n",
    "\n",
    "Intro - Khan paper - started late 90s etc. EWL protocol"
   ]
  },
  {
   "cell_type": "markdown",
   "metadata": {},
   "source": [
    "### The EWL protocol\n",
    "\n",
    "Just as reminder, here is the protocol for a classical 2x2 game:\n",
    "1. Initialization - we start with two '0' bits\n",
    "2. Strategy - each player receives a bit a decides to either keep it as a 0 or flip it to a 1\n",
    "3. Outcome - the outcome is the combination of the two bits\n",
    "4. Payoff - the payoff table is used to find the payoff for each player given the outcome\n",
    "\n",
    "Notice that steps 1 to 3 are the same no matter which 2x2 game we play and only the final step of determining the payoffs depends on teh specific game\n",
    "\n",
    "When dealing with _quantum_ game theory, we require the quantum protocol to follow two rules: __Rule 1:__ It has to distribute maximally entangled qubits to the players and __Rule 2:__ it has to generalize the classical version of the game (don't worry if this doesn't make sense to you immediately, we will come back to these rules again). We will first give the recipe to turn a classical game theory game into a quantum game and then walk through how to implement it in Qiskit. Let's look at how to turn a 2x2 classical game into a quantum game.\n",
    "\n",
    "__1. Intialization__ - we start with two '0' qubits and 2 classical bits that we will use to store measurement results. Ignoring the classical bits for now, this gives us $$|00\\rangle $$ \n",
    "__2. Entanglement__ - we want the qubits to be maximally entangled to each other by an operator before we hand them off to the players. For now we will call this entangling operator $J$ (and explain it further later on). This gives us the state $$J|00\\rangle $$\n",
    "__3. Strategy__ - each player is then given a qubit and applies a single-qubit unitary operator of their choice to their qubit (as opposed to the classical version where they can only choose between keeping it or flipping it). Let's call these operators $U_1$ and $U_2$. We then end up with $$U_1U_2J|00\\rangle $$ \n",
    "__4. 'Disentanglement'__- The qubits are then put through a 'disentangling' gate $J^{\\dagger}$ - again we will get to why later on. So we now have $$J^{\\dagger}U_1U_2J|00\\rangle $$\n",
    "__5. Measurement__ - the qubits are measured in the computational basis and the measurements are stored in the two classical bits\n",
    "\n",
    "The final 2 steps are exactly the same as in the classical protocol\n",
    "\n",
    "__6. Outcome__ - the outcome is the combination of the two (classical) bits <br>\n",
    "__7. Payoff__ - the payoff table is used to find the payoff for each player given the outcome\n",
    "\n",
    "Similar to the classical game, steps 1 to 6 are the same no matter which 2x2 game we play and only the final step of determining the payoffs depends on the specific game."
   ]
  },
  {
   "cell_type": "markdown",
   "metadata": {},
   "source": [
    "#### The Entangling Operator $J$\n",
    "\n",
    "The choice of the entangling and 'disentangling' operators ($J$ and $J^{\\dagger}$) comes from having to satisfy the two rules mentioned above. Here is a more detailed description of the rules:\n",
    "\n",
    "__Rule 1__ : we need to pick an operator that leads to a maximally entangled state before distributing the qubits to each individual player and <br>\n",
    "__Rule 2__ : when playing a quantum game, if both players' strategies are just combinations of either 'keeping it the same' i.e $I$, or 'flipping it' i.e. $X$, then the outcome of the game better be the same as if the players were playing the classical version of the game. This ensures that the classical game is contained within the quantum game.\n",
    "\n",
    "We use the operator chosen by Hayden & Benjamin (without loss of generality): $$J = \\frac{1}{\\sqrt{2}} (I^{\\otimes 2} + iX^{\\otimes 2})$$ where $I$ is the identity operator and $X$ is the Pauli-X gate. Applying this operator to the state $|00\\rangle$ results in the state $$\\frac{1}{\\sqrt{2}}\\left(|00\\rangle + i|11\\rangle\\right)$$ which is a maximally entangled 2 qubit state."
   ]
  },
  {
   "cell_type": "markdown",
   "metadata": {},
   "source": [
    "__Exercise 4__: Show that adding the $J^{\\dagger}$ operator at step 4 satisfies __Rule 2__. Hint: start by showing that  $J^{\\dagger}$ commutes with $I^{\\otimes 2}$ and $X{^\\otimes 2}$. "
   ]
  },
  {
   "cell_type": "markdown",
   "metadata": {},
   "source": [
    "<details>\n",
    "<summary>Click here for the answer to Exercise 4</summary>\n",
    "First we show the commutation relations in the hint. <br>\n",
    "$\\begin{align}\n",
    "    [J^{\\dagger}, I^{\\otimes 2}] &= J^{\\dagger}I^{\\otimes 2} - I^{\\otimes 2}J^{\\dagger} \\\\\n",
    "    &= J^{\\dagger} - J^{\\dagger} \\\\\n",
    "    &= 0 \\\\\n",
    "    [J^{\\dagger}, X^{\\otimes 2}] &= J^{\\dagger}X^{\\otimes 2} - X^{\\otimes 2}J^{\\dagger} \\\\\n",
    "    &= \\frac{1}{\\sqrt{2}} (I - iX^{\\otimes 2})X^{\\otimes 2} - X^{\\otimes 2}\\frac{1}{\\sqrt{2}} (I^{\\otimes 2} - iX^{\\otimes 2}) \\\\\n",
    "    &= \\frac{1}{\\sqrt{2}} (X^{\\otimes 2} - iI^{\\otimes 2}) - \\frac{1}{\\sqrt{2}} (X^{\\otimes 2} - iI^{\\otimes 2}) \\\\\n",
    "    &= 0\n",
    "\\end{align}$\n",
    "\n",
    "And since $X$ and $I$ commute, this means that $J^{\\dagger}$ commutes with any combination of $I$ and $X$ (i.e. $I^{\\otimes 2}$, $IX$, $XI$ and $X^{\\otimes 2}$).\n",
    "Now if we look back at step 4 of the protocol $$J^{\\dagger}U_1U_2J|00\\rangle $$ and impose that $U_1$ and $U_2$ are a combination of $I$ and $X$ gates, we can then move move then interchange the $J^{\\dagger}$ operator with the $U_1$ and $U_1$ operators (since they all commute) which gives us $$U_1U_2J^{\\dagger}J|00\\rangle = U_1U_2|00\\rangle.$$ This results in the final state being qubits that have either been 'kept the same' or 'flipped' without any entanglement or superposition states, which is exactly the same as what would happen in the classical version. This is why step for is called 'disentanglement' in quotation marks - the $J^{\\dagger}$ gate disentangles the qubits if only $I$ or $X$ operators were used as strategies.\n",
    "\n",
    "</details>"
   ]
  },
  {
   "cell_type": "markdown",
   "metadata": {},
   "source": [
    "### Building a 2x2 quantum game\n",
    "\n",
    "OK it's finally qiskit time! In this section, we will be implementing steps 1 to 5 (above)"
   ]
  },
  {
   "cell_type": "markdown",
   "metadata": {},
   "source": [
    "#### 1. Initialziation\n",
    "Initialize a circuit with two '0' qubits and 2 classical bits that we will use to store measurement results "
   ]
  },
  {
   "cell_type": "code",
   "execution_count": 12,
   "metadata": {},
   "outputs": [
    {
     "data": {
      "image/png": "[encoded data removed]",
      "text/plain": [
       "<Figure size 156.52x204.68 with 1 Axes>"
      ]
     },
     "execution_count": 12,
     "metadata": {},
     "output_type": "execute_result"
    }
   ],
   "source": [
    "circ = QuantumCircuit(2,2)\n",
    "circ.draw(output='mpl')"
   ]
  },
  {
   "cell_type": "markdown",
   "metadata": {},
   "source": [
    "This gives a starting state of $|00\\rangle $"
   ]
  },
  {
   "cell_type": "markdown",
   "metadata": {},
   "source": [
    "#### 2. Entanglement\n",
    "We maximally entangled to each other by inserting the J operator"
   ]
  },
  {
   "cell_type": "code",
   "execution_count": 13,
   "metadata": {},
   "outputs": [
    {
     "data": {
      "image/png": "[encoded data removed]",
      "text/plain": [
       "<Figure size 276.92x204.68 with 1 Axes>"
      ]
     },
     "execution_count": 13,
     "metadata": {},
     "output_type": "execute_result"
    }
   ],
   "source": [
    "I_2 = np.identity(4)\n",
    "    \n",
    "X_2 = np.matrix([[0,0,0,1], \n",
    "                   [0,0,1,0],\n",
    "                   [0,1,0,0],\n",
    "                   [1,0,0,0]])\n",
    "J_2 = Operator(1 / np.sqrt(2) * (I_2 + 1j *X_2))    \n",
    "\n",
    "circ.append(J_2, [0,1])\n",
    "circ.draw(output='mpl')"
   ]
  },
  {
   "cell_type": "markdown",
   "metadata": {},
   "source": [
    "This leads us to the state $J|00\\rangle = \\frac{1}{\\sqrt{2}}\\left(|00\\rangle + i|11\\rangle\\right) $"
   ]
  },
  {
   "cell_type": "markdown",
   "metadata": {},
   "source": [
    "__Exercise 5__: Calculate the 4x4 matrix for the $J$ operator and show that $J$ is a unitary operator"
   ]
  },
  {
   "cell_type": "markdown",
   "metadata": {},
   "source": [
    "<details>\n",
    "<summary>Click here for the answer to Exercise 5</summary>\n",
    "Computing $J$:\n",
    "$$I =  \\left(\\begin{array}{cccc} 1&0&0&0\\\\\n",
    "                          0&1&0&0\\\\\n",
    "                          0&0&1&0\\\\\n",
    "                          0&0&0&1\\end{array}\\right)$$\n",
    "$$iX =  \\left(\\begin{array}{cccc} 0&0&0&i\\\\\n",
    "                          0&0&i&0\\\\\n",
    "                          0&i&0&0\\\\\n",
    "                          i&0&0&0\\end{array}\\right)$$\n",
    "$$J = \\frac{1}{\\sqrt{2}} (I + iX) = \\frac{1}{\\sqrt{2}}\\left(\\begin{array}{cccc} 1&0&0&i\\\\\n",
    "                                                                                0&1&i&0\\\\\n",
    "                                                                                0&i&1&0\\\\\n",
    "                                                                                i&0&0&1\\end{array}\\right)$$\n",
    "\n",
    "Showing J is unitary:\n",
    "    \n",
    "$\\begin{align}J^{\\dagger}J &= \\frac{1}{\\sqrt{2}} (I - iX) \\frac{1}{\\sqrt{2}} (I + iX) \\\\\n",
    "&= \\frac{1}{2}(I - iX + iX + I) \\\\\n",
    "&= I\n",
    "\\end{align}\n",
    "$\n",
    "</details>"
   ]
  },
  {
   "cell_type": "markdown",
   "metadata": {},
   "source": [
    "#### 3. Strategy"
   ]
  },
  {
   "cell_type": "markdown",
   "metadata": {},
   "source": [
    "Each person can perform a unitary operator on their individual qubit, e.g. player 1 chooses the $X$ and player 2 chooses the $S$ gate (the $S$ gate changes $|1\\rangle \\rightarrow i|1\\rangle$ and does not do anything to $|0\\rangle$)"
   ]
  },
  {
   "cell_type": "code",
   "execution_count": 14,
   "metadata": {},
   "outputs": [
    {
     "data": {
      "image/png": "[encoded data removed]",
      "text/plain": [
       "<Figure size 337.12x204.68 with 1 Axes>"
      ]
     },
     "execution_count": 14,
     "metadata": {},
     "output_type": "execute_result"
    }
   ],
   "source": [
    "circ.x(0) #assign the X gate to player 1\n",
    "circ.s(1) #assign the H gate to player 2\n",
    "circ.draw(output='mpl')"
   ]
  },
  {
   "cell_type": "markdown",
   "metadata": {},
   "source": [
    "#### 4. 'Disentanglement'"
   ]
  },
  {
   "cell_type": "markdown",
   "metadata": {},
   "source": [
    "We now apply the $J^{\\dagger}$ gate to satisfy __Rule 2__"
   ]
  },
  {
   "cell_type": "code",
   "execution_count": 15,
   "metadata": {},
   "outputs": [
    {
     "data": {
      "image/png": "[encoded data removed]",
      "text/plain": [
       "<Figure size 457.52x204.68 with 1 Axes>"
      ]
     },
     "execution_count": 15,
     "metadata": {},
     "output_type": "execute_result"
    }
   ],
   "source": [
    "J_2_dg = Operator(1 / np.sqrt(2) * (I_2 - 1j *X_2))\n",
    "\n",
    "circ.append(J_2_dg, [0,1])\n",
    "circ.draw(output='mpl')"
   ]
  },
  {
   "cell_type": "markdown",
   "metadata": {},
   "source": [
    "__Exercise 6__: What is the state of the qubits at this stage of the circuit?"
   ]
  },
  {
   "cell_type": "markdown",
   "metadata": {},
   "source": [
    "<details>\n",
    "<summary>Click here for the answer to Exercise 6</summary>\n",
    "$\\begin{align}\n",
    "J^{\\dagger}J &= J^{\\dagger}X_1S_2J|00\\rangle \\\\\n",
    "&= J^{\\dagger}X_1S_2\\frac{1}{\\sqrt{2}}\\left(|00\\rangle + i|11\\rangle\\right) \\\\\n",
    "&= J^{\\dagger}\\frac{1}{\\sqrt{2}}\\left(|10\\rangle - |01\\rangle\\right) \\\\\n",
    "&= \\frac{1}{\\sqrt{2}} (I^{\\otimes 2} - iX^{\\otimes 2})\\frac{1}{\\sqrt{2}}\\left(|10\\rangle - |01\\rangle\\right) \\\\\n",
    "&= \\frac{1}{2}\\left(|10\\rangle - |01\\rangle - i|01\\rangle + i|10\\rangle\\right) \\\\\n",
    "&= \\frac{1+i}{2}(|10\\rangle -|01\\rangle)\n",
    "\\end{align}$ <br>\n",
    "So even though player 1 used the $X$ operator to flip their bit, they finally ended in a state that could lead to their final outcome being 0 or 1 with a 50% probability!\n",
    "</details>"
   ]
  },
  {
   "cell_type": "markdown",
   "metadata": {},
   "source": [
    "#### 5. 'Measurement'\n",
    "And we then measure both qubits in the computational basis, saving the answers into the classical registers"
   ]
  },
  {
   "cell_type": "code",
   "execution_count": 16,
   "metadata": {},
   "outputs": [
    {
     "data": {
      "image/png": "[encoded data removed]",
      "text/plain": [
       "<Figure size 577.92x204.68 with 1 Axes>"
      ]
     },
     "execution_count": 16,
     "metadata": {},
     "output_type": "execute_result"
    }
   ],
   "source": [
    "circ.measure([0,1], [0,1])\n",
    "circ.draw(output='mpl')"
   ]
  },
  {
   "cell_type": "markdown",
   "metadata": {},
   "source": [
    "Since the last two steps (outcome and payoff) do not involve any quantum processes we are done with building the quantum circuit for a 2x2 quantum game!"
   ]
  },
  {
   "cell_type": "markdown",
   "metadata": {},
   "source": [
    "### Quantum Prisoner's Dilemma"
   ]
  },
  {
   "cell_type": "markdown",
   "metadata": {},
   "source": [
    "Now that we have gone through how to write the circuit ourselves, we can use the inbuilt QuantumGameTheory package from now on to simplify the coding going forward. Let's spin up a quantum version of prisoner's dilemma. "
   ]
  },
  {
   "cell_type": "code",
   "execution_count": 17,
   "metadata": {},
   "outputs": [
    {
     "name": "stdout",
     "output_type": "stream",
     "text": [
      "Game: prisoner\n",
      "Payoffs: \n"
     ]
    },
    {
     "data": {
      "text/html": [
       "<div>\n",
       "<style scoped>\n",
       "    .dataframe tbody tr th:only-of-type {\n",
       "        vertical-align: middle;\n",
       "    }\n",
       "\n",
       "    .dataframe tbody tr th {\n",
       "        vertical-align: top;\n",
       "    }\n",
       "\n",
       "    .dataframe thead th {\n",
       "        text-align: right;\n",
       "    }\n",
       "</style>\n",
       "<table border=\"1\" class=\"dataframe\">\n",
       "  <thead>\n",
       "    <tr style=\"text-align: right;\">\n",
       "      <th></th>\n",
       "      <th>outcome</th>\n",
       "      <th>payoffs</th>\n",
       "    </tr>\n",
       "  </thead>\n",
       "  <tbody>\n",
       "    <tr>\n",
       "      <th>0</th>\n",
       "      <td>00</td>\n",
       "      <td>(-1, -1)</td>\n",
       "    </tr>\n",
       "    <tr>\n",
       "      <th>1</th>\n",
       "      <td>01</td>\n",
       "      <td>(-3, 0)</td>\n",
       "    </tr>\n",
       "    <tr>\n",
       "      <th>2</th>\n",
       "      <td>10</td>\n",
       "      <td>(0, -3)</td>\n",
       "    </tr>\n",
       "    <tr>\n",
       "      <th>3</th>\n",
       "      <td>11</td>\n",
       "      <td>(-2, -2)</td>\n",
       "    </tr>\n",
       "  </tbody>\n",
       "</table>\n",
       "</div>"
      ],
      "text/plain": [
       "  outcome   payoffs\n",
       "0      00  (-1, -1)\n",
       "1      01   (-3, 0)\n",
       "2      10   (0, -3)\n",
       "3      11  (-2, -2)"
      ]
     },
     "execution_count": 17,
     "metadata": {},
     "output_type": "execute_result"
    }
   ],
   "source": [
    "prisoner_game_quantum = Game(game_name='prisoner', protocol=\"EWL\")\n",
    "prisoner_game_quantum.display_payoffs()"
   ]
  },
  {
   "cell_type": "markdown",
   "metadata": {},
   "source": [
    "Notice that the payoff table is identical to the classical version (as expected given the protocol described above). Now let us run the same strategies as above in this game"
   ]
  },
  {
   "cell_type": "code",
   "execution_count": 18,
   "metadata": {},
   "outputs": [
    {
     "data": {
      "text/html": [
       "<div>\n",
       "<style scoped>\n",
       "    .dataframe tbody tr th:only-of-type {\n",
       "        vertical-align: middle;\n",
       "    }\n",
       "\n",
       "    .dataframe tbody tr th {\n",
       "        vertical-align: top;\n",
       "    }\n",
       "\n",
       "    .dataframe thead th {\n",
       "        text-align: right;\n",
       "    }\n",
       "</style>\n",
       "<table border=\"1\" class=\"dataframe\">\n",
       "  <thead>\n",
       "    <tr style=\"text-align: right;\">\n",
       "      <th></th>\n",
       "      <th>outcome</th>\n",
       "      <th>payoffs</th>\n",
       "      <th>winners</th>\n",
       "      <th>num_times</th>\n",
       "      <th>backend</th>\n",
       "    </tr>\n",
       "  </thead>\n",
       "  <tbody>\n",
       "    <tr>\n",
       "      <th>0</th>\n",
       "      <td>10</td>\n",
       "      <td>(0, -3)</td>\n",
       "      <td>P1</td>\n",
       "      <td>1</td>\n",
       "      <td>qasm_simulator</td>\n",
       "    </tr>\n",
       "  </tbody>\n",
       "</table>\n",
       "</div>"
      ],
      "text/plain": [
       "  outcome  payoffs winners  num_times         backend\n",
       "0      10  (0, -3)     P1           1  qasm_simulator"
      ]
     },
     "execution_count": 18,
     "metadata": {},
     "output_type": "execute_result"
    }
   ],
   "source": [
    "P1_strategy = 'X'\n",
    "P2_strategy = 'S'\n",
    "combined_strategies = [P1_strategy, P2_strategy]\n",
    "outcomes, results = prisoner_game_quantum.play_game(combined_strategies)\n",
    "results"
   ]
  },
  {
   "cell_type": "markdown",
   "metadata": {},
   "source": [
    "This gives us the outcome of a single game. Let us play the game many times over (say 100) and see the results"
   ]
  },
  {
   "cell_type": "code",
   "execution_count": 19,
   "metadata": {},
   "outputs": [
    {
     "data": {
      "text/html": [
       "<div>\n",
       "<style scoped>\n",
       "    .dataframe tbody tr th:only-of-type {\n",
       "        vertical-align: middle;\n",
       "    }\n",
       "\n",
       "    .dataframe tbody tr th {\n",
       "        vertical-align: top;\n",
       "    }\n",
       "\n",
       "    .dataframe thead th {\n",
       "        text-align: right;\n",
       "    }\n",
       "</style>\n",
       "<table border=\"1\" class=\"dataframe\">\n",
       "  <thead>\n",
       "    <tr style=\"text-align: right;\">\n",
       "      <th></th>\n",
       "      <th>outcome</th>\n",
       "      <th>payoffs</th>\n",
       "      <th>winners</th>\n",
       "      <th>num_times</th>\n",
       "      <th>backend</th>\n",
       "    </tr>\n",
       "  </thead>\n",
       "  <tbody>\n",
       "    <tr>\n",
       "      <th>0</th>\n",
       "      <td>10</td>\n",
       "      <td>(0, -3)</td>\n",
       "      <td>P1</td>\n",
       "      <td>48</td>\n",
       "      <td>qasm_simulator</td>\n",
       "    </tr>\n",
       "    <tr>\n",
       "      <th>1</th>\n",
       "      <td>01</td>\n",
       "      <td>(-3, 0)</td>\n",
       "      <td>P2</td>\n",
       "      <td>52</td>\n",
       "      <td>qasm_simulator</td>\n",
       "    </tr>\n",
       "  </tbody>\n",
       "</table>\n",
       "</div>"
      ],
      "text/plain": [
       "  outcome  payoffs winners  num_times         backend\n",
       "0      10  (0, -3)     P1          48  qasm_simulator\n",
       "1      01  (-3, 0)     P2          52  qasm_simulator"
      ]
     },
     "execution_count": 19,
     "metadata": {},
     "output_type": "execute_result"
    }
   ],
   "source": [
    "outcomes_sim, results_sim = prisoner_game_quantum.play_game(combined_strategies, n_times = 100)\n",
    "results_sim"
   ]
  },
  {
   "cell_type": "markdown",
   "metadata": {},
   "source": [
    "As a side note: we will finally use the 'outcomes_sim' variable and 'num_times column'! (you were told to ignore these at the very beginning of the tutorial... finally they're in use!). num_times refers to the number of times the given outcome appeared and 'outcomes_sim' is simply a dictionary of keys 'outcome' and values 'num_times' which is used as an input to qiskit's own 'plot_histogram' function."
   ]
  },
  {
   "cell_type": "code",
   "execution_count": 20,
   "metadata": {},
   "outputs": [
    {
     "data": {
      "image/png": "[encoded data removed]",
      "text/plain": [
       "<Figure size 504x360 with 1 Axes>"
      ]
     },
     "execution_count": 20,
     "metadata": {},
     "output_type": "execute_result"
    }
   ],
   "source": [
    "plot_histogram(outcomes_sim)"
   ]
  },
  {
   "cell_type": "markdown",
   "metadata": {},
   "source": [
    "As you can see, we have about an even split between 01 and 10. Does the outcome make sense? At this point if you haven't done Exercise 6 yet, have a look at the solution to see why the outcome is like this and why, even though player one chose $X$ as their strategy, they still end up with an outcome of '0' half the time!"
   ]
  },
  {
   "cell_type": "markdown",
   "metadata": {},
   "source": [
    "### Playing on an actual quantum computer\n",
    "\n",
    "__If you haven't setup your IBMQ account, please click [here](https://github.com/Qiskit/qiskit-iqx-tutorials/blob/master/qiskit/fundamentals/1_getting_started_with_qiskit.ipynb) and go to the section titled 'Running circuits from the IBM Q account'__\n",
    "\n",
    "So far we have been running everything on the QASM simulator (under the hood). Let's rerun the same game (quantum prisoner's dilemma) with the same strategies (player 1 choose $X$ and player 2 chooses $S$) on a real quantum computer this time! We can do this by simply adding the group and backend of the machine we desire when spinning up the game (this might take a while to run depending on the queue of the machine you select) "
   ]
  },
  {
   "cell_type": "code",
   "execution_count": null,
   "metadata": {},
   "outputs": [],
   "source": [
    "prisoner_game_quantum = Game(game_name='prisoner', protocol=\"EWL\", group='open', backend=\"ibmqx2\")\n",
    "P1_strategy = 'X'\n",
    "P2_strategy = 'S'\n",
    "combined_strategies = [P1_strategy, P2_strategy]\n",
    "prisoner_game_quantum.play_game(combined_strategies)\n",
    "outcomes_q, results_q = prisoner_game_quantum.play_game(combined_strategies, n_times = 100)\n",
    "results_q"
   ]
  },
  {
   "cell_type": "markdown",
   "metadata": {},
   "source": [
    "And let's plot the two results (from the QASM simulator and from the actual machine) side-by-side"
   ]
  },
  {
   "cell_type": "code",
   "execution_count": null,
   "metadata": {},
   "outputs": [],
   "source": [
    "plot_histogram([outcomes_sim,outcomes_q], legend=['simulator', 'ibmqx2'])"
   ]
  },
  {
   "cell_type": "markdown",
   "metadata": {},
   "source": [
    "Write something on simulator vs real?"
   ]
  },
  {
   "cell_type": "code",
   "execution_count": null,
   "metadata": {},
   "outputs": [],
   "source": [
    "Q prisoner's dilemma has other optimal strategies that don't exist in classical -> Nash equilibriums!\n",
    "(x-minority game)\n",
    "other current features ('MW' protocol, etc.)"
   ]
  },
  {
   "cell_type": "markdown",
   "metadata": {},
   "source": [
    "## Quantum vs Classical Games\n",
    "\n",
    "So by now you hopefully have a good notion of basic 2x2 classical and quantum games. But what is the real difference between these games? More specifically, if I play the classical game but allow my choices to be randomized, can I reproduce the quantum game? To answer this question, we have to introduce the notion of mixed (i.e. probabilistic) strategies"
   ]
  },
  {
   "cell_type": "markdown",
   "metadata": {},
   "source": [
    "### Mixed Strategies\n",
    "A mixed strategy is just a strategy which includes classical stochasticity in it, for example \"I choose '0' with 50% probability and '1' with 50% probability\". This works for quantum strategies too e.g. \"I choose 'X' with 33% probability, 'H' with 33% probability and 'S' with 33% probability.\"  Already we can start to see that classical games (even when allowing for stochasticity) cannot reproduce quantum games (how do we model the effect of stochastic unitary gates with only classical probabilities?). But let's see it in a concrete example: back to our old friend the Prisoner's Dilemma"
   ]
  },
  {
   "cell_type": "markdown",
   "metadata": {},
   "source": [
    "### Prisoner's Dilemma Revisited\n",
    "Let's think the prisoner's dilemma again but this time using mixed strategies. Let's start by spinning up another prisoner's dilemma game to look at the payoff table again."
   ]
  },
  {
   "cell_type": "code",
   "execution_count": null,
   "metadata": {},
   "outputs": [],
   "source": [
    "prisoner_game = Game('prisoner', protocol=\"Classical\")\n",
    "prisoner_game.display_payoffs()"
   ]
  },
  {
   "cell_type": "markdown",
   "metadata": {},
   "source": [
    "You may remember from Exercise 1 that there is a dominant strategy for both players in this game. So mixed strategies are not uesful in this case (why would I want to have any chance of choosing the non-dominant strategy?) So how about for the quantum game? Let's just consider pure strategies (i.e. strategies that are not classically stochastic). Is there a dominant strategy there? Naively one could guess that the $X$ strategy is the dominant one, as it corresponds to the classical dominant strategy of choosing '1'. However... "
   ]
  },
  {
   "cell_type": "markdown",
   "metadata": {},
   "source": [
    "## What next?\n",
    "This is really cool, what can I do going forward?\n",
    "1. Help build infrastructure - mixed strategies, more choices etc.\n",
    "2. Study theory using this toolkit\n",
    "Ideas we are interested in/working on\n",
    "Get in touch with us!"
   ]
  }
 ],
 "metadata": {
  "kernelspec": {
   "display_name": "Python 3",
   "language": "python",
   "name": "python3"
  },
  "language_info": {
   "codemirror_mode": {
    "name": "ipython",
    "version": 3
   },
   "file_extension": ".py",
   "mimetype": "text/x-python",
   "name": "python",
   "nbconvert_exporter": "python",
   "pygments_lexer": "ipython3",
   "version": "3.6.9"
  }
 },
 "nbformat": 4,
 "nbformat_minor": 2
}
