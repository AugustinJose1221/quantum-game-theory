{
 "cells": [
  {
   "cell_type": "code",
   "execution_count": 61,
   "metadata": {},
   "outputs": [
    {
     "name": "stdout",
     "output_type": "stream",
     "text": [
      "[0.707+0.j    0.   +0.j    0.   +0.j    0.   +0.707j]\n"
     ]
    }
   ],
   "source": [
    "import numpy as np\n",
    "\n",
    "from qiskit import QuantumCircuit, Aer, execute\n",
    "# from qiskit import *\n",
    "\n",
    "circ = QuantumCircuit(2)\n",
    "circ.h(0)\n",
    "circ.cx(0,1)\n",
    "circ.rz(np.pi/2, 1)\n",
    "\n",
    "backend = Aer.get_backend('statevector_simulator')\n",
    "job = execute(circ, backend)\n",
    "result = job.result()\n",
    "outputstate = result.get_statevector(circ, decimals=3)\n",
    "print(outputstate)"
   ]
  },
  {
   "cell_type": "code",
   "execution_count": 70,
   "metadata": {},
   "outputs": [
    {
     "name": "stdout",
     "output_type": "stream",
     "text": [
      "[0.707+0.j    0.   +0.j    0.   +0.j    0.   +0.j    0.   +0.j\n",
      " 0.   +0.j    0.   +0.j    0.   +0.j    0.   +0.j    0.   +0.j\n",
      " 0.   +0.j    0.   +0.j    0.   +0.j    0.   +0.j    0.   +0.j\n",
      " 0.   +0.707j]\n"
     ]
    }
   ],
   "source": [
    "J_4 = QuantumCircuit(4)\n",
    "J_4.h(0)\n",
    "J_4.cx(0,1)\n",
    "J_4.cx(0,2)\n",
    "J_4.cx(0,3)\n",
    "J_4.rz(np.pi/2, 3)\n",
    "\n",
    "backend = Aer.get_backend('statevector_simulator')\n",
    "job = execute(J_4, backend)\n",
    "result = job.result()\n",
    "outputstate = result.get_statevector(J_4, decimals=3)\n",
    "print(outputstate)"
   ]
  },
  {
   "cell_type": "code",
   "execution_count": 66,
   "metadata": {},
   "outputs": [
    {
     "data": {
      "image/png": "[encoded data removed]",
      "text/plain": [
       "<Figure size 457.52x264.88 with 1 Axes>"
      ]
     },
     "execution_count": 66,
     "metadata": {},
     "output_type": "execute_result"
    }
   ],
   "source": [
    "J_4.draw(output='mpl')"
   ]
  },
  {
   "cell_type": "code",
   "execution_count": 72,
   "metadata": {},
   "outputs": [
    {
     "name": "stdout",
     "output_type": "stream",
     "text": [
      "[[ 0.69351992-0.13794969j  0.13794969+0.69351992j]\n",
      " [-0.13794969+0.69351992j  0.69351992+0.13794969j]]\n"
     ]
    },
    {
     "data": {
      "image/png": "[encoded data removed]",
      "text/plain": [
       "<Figure size 517.72x325.08 with 1 Axes>"
      ]
     },
     "execution_count": 72,
     "metadata": {},
     "output_type": "execute_result"
    }
   ],
   "source": [
    "# computing optimal quantum strategy in unitary matrix form\n",
    "\n",
    "# defining pauli operators\n",
    "I = np.matrix('1 0; 0 1') \n",
    "X = np.matrix('0 1; 1 0')\n",
    "Y = np.matrix('0 -1j; 1j 0')\n",
    "Z = np.matrix('1 0; 0 -1')\n",
    "\n",
    "\n",
    "import math\n",
    "a = (1/math.sqrt(2))*math.cos(math.pi/16)*(I+1j*X)+(1/math.sqrt(2))*math.sin(math.pi/16)*(1j*Y-1j*Z)\n",
    "print (a)\n",
    "op = Operator(a)        \n",
    "\n",
    "num_qubits = 4\n",
    "num_cbits = num_qubits\n",
    "circ = QuantumCircuit(num_qubits, num_cbits)\n",
    "circ.append(op, [0])\n",
    "circ.append(op, [1])\n",
    "circ.append(op, [2])\n",
    "circ.append(op, [3])\n",
    "#for gate, qubits in [gate1, gate2]:\n",
    "#    circ.append(gate, qubits)\n",
    "circ.measure(range(num_qubits), range(num_cbits))\n",
    "circ.draw(output='mpl')"
   ]
  },
  {
   "cell_type": "code",
   "execution_count": null,
   "metadata": {},
   "outputs": [],
   "source": []
  }
 ],
 "metadata": {
  "kernelspec": {
   "display_name": "qiskit",
   "language": "python",
   "name": "qhacking"
  },
  "language_info": {
   "codemirror_mode": {
    "name": "ipython",
    "version": 3
   },
   "file_extension": ".py",
   "mimetype": "text/x-python",
   "name": "python",
   "nbconvert_exporter": "python",
   "pygments_lexer": "ipython3",
   "version": "3.7.4"
  }
 },
 "nbformat": 4,
 "nbformat_minor": 2
}
